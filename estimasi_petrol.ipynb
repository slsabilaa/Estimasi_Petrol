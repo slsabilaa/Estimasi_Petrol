{
 "cells": [
  {
   "attachments": {},
   "cell_type": "markdown",
   "metadata": {},
   "source": [
    "Penjelasan CRISP-DM\n",
    "\n",
    "1. Bussiness Understanding\n",
    "Pada tahap pertama dalam CRISP-DM, tahapan ini membutuhkan suatu pengetahuan mengenai objek dari bisnis, bagaimana untuk membangun atau mendapatkan sebuah data, serta bagaimana menyamakan dan menentukan pada tujuan pemodelan yang dibuat sehingga model yang didapatkan lebih baik dan akurat. Minyak bumi (juga disebut minyak mentah atau petroleum), sering dijuluki sebagai \"emas hitam\", adalah cairan kental berwarna coklat pekat/gelap atau kehijauan yang mudah terbakar yang berada di lapisan atas dari beberapa area di kerak bumi. Minyak bumi terdiri dari campuran kompleks dari berbagai hidrokarbon, sebagian besar seri alkana, tetapi bervariasi dalam penampilan, komposisi, dan kemurniannya. Minyak bumi diambil dari sumur minyak di pertambangan-pertambangan minyak. Lokasi sumur-sumur minyak ini didapatkan setelah melalui proses studi geologi, analisis sedimen, karakter dan struktur sumber, dan berbagai macam studi lainnya.[1][2] Setelah itu, minyak bumi akan diproses di tempat pengilangan minyak dan dipisah-pisahkan hasilnya berdasarkan titik didihnya sehingga menghasilkan berbagai macam bahan bakar, mulai dari bensin dan minyak tanah sampai aspal dan berbagai reagen kimia yang dibutuhkan untuk membuat plastik dan obat-obatan.[3] Minyak bumi digunakan untuk memproduksi berbagai macam barang dan material yang dibutuhkan manusia.[4]\n",
    "\n",
    "Dataset yang digunakan : Data ini diperoleh dari kaggle.com \"https://www.kaggle.com/datasets/zusmani/petrolgas-prices-worldwide\"\n",
    "\n",
    "Tujuan : Analisis ini bertujuan untuk mengetahui berapa estimasi harga petrol/bensin dan mengetahui kegunaan  produksi dari bensin tersebut yang akan dijadikan berbagai macam barang dan material yang dibutuhkan manusia.\n",
    "\n"
   ]
  },
  {
   "attachments": {},
   "cell_type": "markdown",
   "metadata": {},
   "source": [
    "2. Data Understanding\n",
    " 0   #                              int64\n",
    " 1   Country                        object \n",
    " 2   DailyOilConsumption(Barrels)   int64  \n",
    " 3   WorldShare                     object \n",
    " 4   YearlyGallonsPerCapita         float64\n",
    " 5   PricePerGallon(USD)            float64\n",
    " 6   PricePerLiter(USD)             float64\n",
    " 7   PricePerLiter(PKR)             float64"
   ]
  },
  {
   "attachments": {},
   "cell_type": "markdown",
   "metadata": {},
   "source": [
    "3. Data Preparation\n",
    "Pada tahap data preparation ini merupakan suatu proses menyiapkan data mentah sehingga layak untuk diproses dan dianalisis lebih lanjut berdasarkan pada model algoritma yang digunakan yaitu regresi linier dan data yang tepat untuk digunakan adalah: DailyOilConsumption(Barrels), YearlyGallonsPerCapita, PricePerGallon(USD), PricePerLiter(USD).\n",
    "\n",
    "(x) Feature : DailyOilConsumption(Barrels), YearlyGallonsPerCapita, PricePerGallon(USD), PricePerLiter(USD)\n",
    "\n",
    "(y) Label : PricePerGallon(USD)"
   ]
  },
  {
   "attachments": {},
   "cell_type": "markdown",
   "metadata": {},
   "source": [
    "4. Modeling\n",
    "Pada tahap modeling ini untuk membuat model prediktif atau deskriptif. maka dilakukan metode statistika dan machine learning untuk menentukan suatu teknik terhadap data mining, alat bantu data mining,serta algoritma data mining yang akan diterapkan. pada tahap modelling ini saya menggunakan model regresi linier dengan algoritma: Sklearn.linier_model.\n",
    "\n"
   ]
  },
  {
   "attachments": {},
   "cell_type": "markdown",
   "metadata": {},
   "source": [
    "5. Evaluation\n",
    "Pada tahap ini Setelah didapatkan sebuah atau beberapa model sehingga dilakukan penilaian terkait kualitas dan keefektifitasan nya. maka dalam tahap ini saya menggunakan contoh yaitu:  DailyOilConsumption(Barrels):19687287\t, 'YearlyGallonsPerCapita:934.3\t, PricePerGallon(USD):5.19, PricePerLiter(USD):1.37. Maka estimasi harga minyak pada bensin adalah: [5.19]\n"
   ]
  },
  {
   "attachments": {},
   "cell_type": "markdown",
   "metadata": {},
   "source": [
    "6. Deployment\n",
    "pada tahap ini perencanaan untuk Deployment dimulai selama dalam Business Understanding dan harus menggabungkan tidak hanya bagaimana untuk menghasilkan nilai model saja,tetapi juga bagaimana mengkonversi skor keputusan,serta bagaimana untuk menggabungkan keputusan dalam sebuah sistem operasional.\n",
    "\n"
   ]
  },
  {
   "attachments": {},
   "cell_type": "markdown",
   "metadata": {},
   "source": [
    "# deskripsi library yang digunakan"
   ]
  },
  {
   "cell_type": "code",
   "execution_count": 1,
   "metadata": {},
   "outputs": [],
   "source": [
    "import pandas as pd\n",
    "import numpy as np\n",
    "import matplotlib.pyplot as plt\n",
    "import seaborn as sns"
   ]
  },
  {
   "attachments": {},
   "cell_type": "markdown",
   "metadata": {},
   "source": [
    "# memanggil dataset"
   ]
  },
  {
   "cell_type": "code",
   "execution_count": 2,
   "metadata": {},
   "outputs": [],
   "source": [
    "df = pd.read_csv('Petrol-Dataset-June-20-2022.csv')"
   ]
  },
  {
   "attachments": {},
   "cell_type": "markdown",
   "metadata": {},
   "source": [
    "# deakripsi dataset"
   ]
  },
  {
   "cell_type": "code",
   "execution_count": 35,
   "metadata": {},
   "outputs": [
    {
     "data": {
      "text/html": [
       "<div>\n",
       "<style scoped>\n",
       "    .dataframe tbody tr th:only-of-type {\n",
       "        vertical-align: middle;\n",
       "    }\n",
       "\n",
       "    .dataframe tbody tr th {\n",
       "        vertical-align: top;\n",
       "    }\n",
       "\n",
       "    .dataframe thead th {\n",
       "        text-align: right;\n",
       "    }\n",
       "</style>\n",
       "<table border=\"1\" class=\"dataframe\">\n",
       "  <thead>\n",
       "    <tr style=\"text-align: right;\">\n",
       "      <th></th>\n",
       "      <th>#</th>\n",
       "      <th>Country</th>\n",
       "      <th>DailyOilConsumption(Barrels)</th>\n",
       "      <th>WorldShare</th>\n",
       "      <th>YearlyGallonsPerCapita</th>\n",
       "      <th>PricePerGallon(USD)</th>\n",
       "      <th>PricePerLiter(USD)</th>\n",
       "      <th>PricePerLiter(PKR)</th>\n",
       "    </tr>\n",
       "  </thead>\n",
       "  <tbody>\n",
       "    <tr>\n",
       "      <th>0</th>\n",
       "      <td>1</td>\n",
       "      <td>United States</td>\n",
       "      <td>19687287</td>\n",
       "      <td>20.30%</td>\n",
       "      <td>934.3</td>\n",
       "      <td>5.19</td>\n",
       "      <td>1.37</td>\n",
       "      <td>289.97</td>\n",
       "    </tr>\n",
       "    <tr>\n",
       "      <th>1</th>\n",
       "      <td>2</td>\n",
       "      <td>China</td>\n",
       "      <td>12791553</td>\n",
       "      <td>13.20%</td>\n",
       "      <td>138.7</td>\n",
       "      <td>5.42</td>\n",
       "      <td>1.43</td>\n",
       "      <td>302.87</td>\n",
       "    </tr>\n",
       "    <tr>\n",
       "      <th>2</th>\n",
       "      <td>3</td>\n",
       "      <td>India</td>\n",
       "      <td>4443000</td>\n",
       "      <td>4.60%</td>\n",
       "      <td>51.4</td>\n",
       "      <td>5.05</td>\n",
       "      <td>1.33</td>\n",
       "      <td>281.93</td>\n",
       "    </tr>\n",
       "    <tr>\n",
       "      <th>3</th>\n",
       "      <td>4</td>\n",
       "      <td>Japan</td>\n",
       "      <td>4012877</td>\n",
       "      <td>4.10%</td>\n",
       "      <td>481.5</td>\n",
       "      <td>4.69</td>\n",
       "      <td>1.24</td>\n",
       "      <td>262.05</td>\n",
       "    </tr>\n",
       "    <tr>\n",
       "      <th>4</th>\n",
       "      <td>5</td>\n",
       "      <td>Russia</td>\n",
       "      <td>3631287</td>\n",
       "      <td>3.70%</td>\n",
       "      <td>383.2</td>\n",
       "      <td>3.41</td>\n",
       "      <td>0.90</td>\n",
       "      <td>190.56</td>\n",
       "    </tr>\n",
       "  </tbody>\n",
       "</table>\n",
       "</div>"
      ],
      "text/plain": [
       "   #        Country  DailyOilConsumption(Barrels) WorldShare  \\\n",
       "0  1  United States                      19687287     20.30%   \n",
       "1  2          China                      12791553     13.20%   \n",
       "2  3          India                       4443000      4.60%   \n",
       "3  4          Japan                       4012877      4.10%   \n",
       "4  5         Russia                       3631287      3.70%   \n",
       "\n",
       "   YearlyGallonsPerCapita  PricePerGallon(USD)  PricePerLiter(USD)  \\\n",
       "0                   934.3                 5.19                1.37   \n",
       "1                   138.7                 5.42                1.43   \n",
       "2                    51.4                 5.05                1.33   \n",
       "3                   481.5                 4.69                1.24   \n",
       "4                   383.2                 3.41                0.90   \n",
       "\n",
       "   PricePerLiter(PKR)  \n",
       "0              289.97  \n",
       "1              302.87  \n",
       "2              281.93  \n",
       "3              262.05  \n",
       "4              190.56  "
      ]
     },
     "execution_count": 35,
     "metadata": {},
     "output_type": "execute_result"
    }
   ],
   "source": [
    "df.head()"
   ]
  },
  {
   "cell_type": "code",
   "execution_count": 36,
   "metadata": {},
   "outputs": [
    {
     "name": "stdout",
     "output_type": "stream",
     "text": [
      "<class 'pandas.core.frame.DataFrame'>\n",
      "RangeIndex: 181 entries, 0 to 180\n",
      "Data columns (total 8 columns):\n",
      " #   Column                        Non-Null Count  Dtype  \n",
      "---  ------                        --------------  -----  \n",
      " 0   #                             181 non-null    int64  \n",
      " 1   Country                       181 non-null    object \n",
      " 2   DailyOilConsumption(Barrels)  181 non-null    int64  \n",
      " 3   WorldShare                    181 non-null    object \n",
      " 4   YearlyGallonsPerCapita        181 non-null    float64\n",
      " 5   PricePerGallon(USD)           181 non-null    float64\n",
      " 6   PricePerLiter(USD)            181 non-null    float64\n",
      " 7   PricePerLiter(PKR)            181 non-null    float64\n",
      "dtypes: float64(4), int64(2), object(2)\n",
      "memory usage: 11.4+ KB\n"
     ]
    }
   ],
   "source": [
    "df.info()"
   ]
  },
  {
   "cell_type": "code",
   "execution_count": 37,
   "metadata": {},
   "outputs": [
    {
     "data": {
      "text/plain": [
       "<Axes: >"
      ]
     },
     "execution_count": 37,
     "metadata": {},
     "output_type": "execute_result"
    },
    {
     "data": {
      "image/png": "[encoded data removed]",
      "text/plain": [
       "<Figure size 432x288 with 2 Axes>"
      ]
     },
     "metadata": {
      "needs_background": "light"
     },
     "output_type": "display_data"
    }
   ],
   "source": [
    "sns.heatmap(df.isnull())"
   ]
  },
  {
   "cell_type": "code",
   "execution_count": 38,
   "metadata": {},
   "outputs": [
    {
     "data": {
      "text/html": [
       "<div>\n",
       "<style scoped>\n",
       "    .dataframe tbody tr th:only-of-type {\n",
       "        vertical-align: middle;\n",
       "    }\n",
       "\n",
       "    .dataframe tbody tr th {\n",
       "        vertical-align: top;\n",
       "    }\n",
       "\n",
       "    .dataframe thead th {\n",
       "        text-align: right;\n",
       "    }\n",
       "</style>\n",
       "<table border=\"1\" class=\"dataframe\">\n",
       "  <thead>\n",
       "    <tr style=\"text-align: right;\">\n",
       "      <th></th>\n",
       "      <th>#</th>\n",
       "      <th>DailyOilConsumption(Barrels)</th>\n",
       "      <th>YearlyGallonsPerCapita</th>\n",
       "      <th>PricePerGallon(USD)</th>\n",
       "      <th>PricePerLiter(USD)</th>\n",
       "      <th>PricePerLiter(PKR)</th>\n",
       "    </tr>\n",
       "  </thead>\n",
       "  <tbody>\n",
       "    <tr>\n",
       "      <th>count</th>\n",
       "      <td>181.000000</td>\n",
       "      <td>1.810000e+02</td>\n",
       "      <td>181.000000</td>\n",
       "      <td>181.000000</td>\n",
       "      <td>181.000000</td>\n",
       "      <td>181.000000</td>\n",
       "    </tr>\n",
       "    <tr>\n",
       "      <th>mean</th>\n",
       "      <td>91.000000</td>\n",
       "      <td>5.335730e+05</td>\n",
       "      <td>332.006630</td>\n",
       "      <td>5.695691</td>\n",
       "      <td>1.505138</td>\n",
       "      <td>318.219227</td>\n",
       "    </tr>\n",
       "    <tr>\n",
       "      <th>std</th>\n",
       "      <td>52.394338</td>\n",
       "      <td>1.858067e+06</td>\n",
       "      <td>436.558735</td>\n",
       "      <td>4.370484</td>\n",
       "      <td>1.154575</td>\n",
       "      <td>244.192081</td>\n",
       "    </tr>\n",
       "    <tr>\n",
       "      <th>min</th>\n",
       "      <td>1.000000</td>\n",
       "      <td>5.100000e+01</td>\n",
       "      <td>2.200000</td>\n",
       "      <td>0.080000</td>\n",
       "      <td>0.020000</td>\n",
       "      <td>4.650000</td>\n",
       "    </tr>\n",
       "    <tr>\n",
       "      <th>25%</th>\n",
       "      <td>46.000000</td>\n",
       "      <td>2.003600e+04</td>\n",
       "      <td>53.900000</td>\n",
       "      <td>4.150000</td>\n",
       "      <td>1.100000</td>\n",
       "      <td>232.020000</td>\n",
       "    </tr>\n",
       "    <tr>\n",
       "      <th>50%</th>\n",
       "      <td>91.000000</td>\n",
       "      <td>6.161200e+04</td>\n",
       "      <td>180.200000</td>\n",
       "      <td>5.280000</td>\n",
       "      <td>1.400000</td>\n",
       "      <td>295.040000</td>\n",
       "    </tr>\n",
       "    <tr>\n",
       "      <th>75%</th>\n",
       "      <td>136.000000</td>\n",
       "      <td>2.623520e+05</td>\n",
       "      <td>424.600000</td>\n",
       "      <td>6.760000</td>\n",
       "      <td>1.790000</td>\n",
       "      <td>377.740000</td>\n",
       "    </tr>\n",
       "    <tr>\n",
       "      <th>max</th>\n",
       "      <td>181.000000</td>\n",
       "      <td>1.968729e+07</td>\n",
       "      <td>3679.500000</td>\n",
       "      <td>54.890000</td>\n",
       "      <td>14.500000</td>\n",
       "      <td>3066.750000</td>\n",
       "    </tr>\n",
       "  </tbody>\n",
       "</table>\n",
       "</div>"
      ],
      "text/plain": [
       "                #  DailyOilConsumption(Barrels)  YearlyGallonsPerCapita  \\\n",
       "count  181.000000                  1.810000e+02              181.000000   \n",
       "mean    91.000000                  5.335730e+05              332.006630   \n",
       "std     52.394338                  1.858067e+06              436.558735   \n",
       "min      1.000000                  5.100000e+01                2.200000   \n",
       "25%     46.000000                  2.003600e+04               53.900000   \n",
       "50%     91.000000                  6.161200e+04              180.200000   \n",
       "75%    136.000000                  2.623520e+05              424.600000   \n",
       "max    181.000000                  1.968729e+07             3679.500000   \n",
       "\n",
       "       PricePerGallon(USD)  PricePerLiter(USD)  PricePerLiter(PKR)  \n",
       "count           181.000000          181.000000          181.000000  \n",
       "mean              5.695691            1.505138          318.219227  \n",
       "std               4.370484            1.154575          244.192081  \n",
       "min               0.080000            0.020000            4.650000  \n",
       "25%               4.150000            1.100000          232.020000  \n",
       "50%               5.280000            1.400000          295.040000  \n",
       "75%               6.760000            1.790000          377.740000  \n",
       "max              54.890000           14.500000         3066.750000  "
      ]
     },
     "execution_count": 38,
     "metadata": {},
     "output_type": "execute_result"
    }
   ],
   "source": [
    "df.describe()"
   ]
  },
  {
   "cell_type": "markdown",
   "metadata": {},
   "source": []
  },
  {
   "attachments": {},
   "cell_type": "markdown",
   "metadata": {},
   "source": [
    "# visualisasi data"
   ]
  },
  {
   "cell_type": "code",
   "execution_count": 39,
   "metadata": {},
   "outputs": [
    {
     "data": {
      "text/plain": [
       "<Axes: >"
      ]
     },
     "execution_count": 39,
     "metadata": {},
     "output_type": "execute_result"
    },
    {
     "data": {
      "image/png": "[encoded data removed]",
      "text/plain": [
       "<Figure size 720x576 with 2 Axes>"
      ]
     },
     "metadata": {
      "needs_background": "light"
     },
     "output_type": "display_data"
    }
   ],
   "source": [
    "plt.figure(figsize=(10,8))\n",
    "sns.heatmap(df.corr(),annot=True)"
   ]
  },
  {
   "attachments": {},
   "cell_type": "markdown",
   "metadata": {},
   "source": [
    "# harga bensin berdasarkan minyak"
   ]
  },
  {
   "cell_type": "code",
   "execution_count": 53,
   "metadata": {},
   "outputs": [],
   "source": [
    "models = df.groupby('WorldShare').count()[['PricePerGallon(USD)']].sort_values(by='PricePerGallon(USD)',ascending=True).reset_index()\n",
    "models = models.rename(columns={'PricePerGallon(USD)':'HargaBensin'})"
   ]
  },
  {
   "cell_type": "code",
   "execution_count": 54,
   "metadata": {},
   "outputs": [
    {
     "data": {
      "text/plain": [
       "(array([ 0,  1,  2,  3,  4,  5,  6,  7,  8,  9, 10, 11, 12, 13, 14, 15, 16,\n",
       "        17, 18, 19, 20, 21, 22, 23, 24, 25, 26, 27, 28, 29, 30, 31, 32, 33,\n",
       "        34, 35, 36]),\n",
       " [Text(0, 0, '4.60%'),\n",
       "  Text(1, 0, '1.40%'),\n",
       "  Text(2, 0, '1.60%'),\n",
       "  Text(3, 0, '1.70%'),\n",
       "  Text(4, 0, '0.50%'),\n",
       "  Text(5, 0, '1.80%'),\n",
       "  Text(6, 0, '1.90%'),\n",
       "  Text(7, 0, '13.20%'),\n",
       "  Text(8, 0, '2.10%'),\n",
       "  Text(9, 0, '1.10%'),\n",
       "  Text(10, 0, '2.50%'),\n",
       "  Text(11, 0, '2.60%'),\n",
       "  Text(12, 0, '2.70%'),\n",
       "  Text(13, 0, '20.30%'),\n",
       "  Text(14, 0, '3.10%'),\n",
       "  Text(15, 0, '3.40%'),\n",
       "  Text(16, 0, '3.70%'),\n",
       "  Text(17, 0, '4.10%'),\n",
       "  Text(18, 0, '0.07%'),\n",
       "  Text(19, 0, '0.09%'),\n",
       "  Text(20, 0, '1.00%'),\n",
       "  Text(21, 0, '0.90%'),\n",
       "  Text(22, 0, '0.60%'),\n",
       "  Text(23, 0, '0.08%'),\n",
       "  Text(24, 0, '1.30%'),\n",
       "  Text(25, 0, '0.70%'),\n",
       "  Text(26, 0, '0.40%'),\n",
       "  Text(27, 0, '0.30%'),\n",
       "  Text(28, 0, '0.03%'),\n",
       "  Text(29, 0, '0.06%'),\n",
       "  Text(30, 0, '0.05%'),\n",
       "  Text(31, 0, '0.04%'),\n",
       "  Text(32, 0, '0.10%'),\n",
       "  Text(33, 0, '0.01%'),\n",
       "  Text(34, 0, '0.00%'),\n",
       "  Text(35, 0, '0.20%'),\n",
       "  Text(36, 0, '0.02%')])"
      ]
     },
     "execution_count": 54,
     "metadata": {},
     "output_type": "execute_result"
    },
    {
     "data": {
      "image/png": "[encoded data removed]",
      "text/plain": [
       "<Figure size 1080x360 with 1 Axes>"
      ]
     },
     "metadata": {
      "needs_background": "light"
     },
     "output_type": "display_data"
    }
   ],
   "source": [
    "fig = plt.figure(figsize=(15,5))\n",
    "sns.barplot(x=models['WorldShare'], y=models['HargaBensin'], color='royalblue')\n",
    "plt.xticks(rotation=60)"
   ]
  },
  {
   "attachments": {},
   "cell_type": "markdown",
   "metadata": {},
   "source": [
    "# distribusi harga bensin"
   ]
  },
  {
   "cell_type": "code",
   "execution_count": 55,
   "metadata": {},
   "outputs": [
    {
     "name": "stderr",
     "output_type": "stream",
     "text": [
      "C:\\Users\\SALSAB~1\\AppData\\Local\\Temp/ipykernel_17832/1456466163.py:2: UserWarning: \n",
      "\n",
      "`distplot` is a deprecated function and will be removed in seaborn v0.14.0.\n",
      "\n",
      "Please adapt your code to use either `displot` (a figure-level function with\n",
      "similar flexibility) or `histplot` (an axes-level function for histograms).\n",
      "\n",
      "For a guide to updating your code to use the new functions, please see\n",
      "https://gist.github.com/mwaskom/de44147ed2974457ad6372750bbe5751\n",
      "\n",
      "  sns.distplot(df['PricePerGallon(USD)'])\n"
     ]
    },
    {
     "data": {
      "text/plain": [
       "<Axes: xlabel='PricePerGallon(USD)', ylabel='Density'>"
      ]
     },
     "execution_count": 55,
     "metadata": {},
     "output_type": "execute_result"
    },
    {
     "data": {
      "image/png": "[encoded data removed]",
      "text/plain": [
       "<Figure size 1080x360 with 1 Axes>"
      ]
     },
     "metadata": {
      "needs_background": "light"
     },
     "output_type": "display_data"
    }
   ],
   "source": [
    "plt.figure(figsize=(15,5))\n",
    "sns.distplot(df['PricePerGallon(USD)'])"
   ]
  },
  {
   "attachments": {},
   "cell_type": "markdown",
   "metadata": {},
   "source": [
    "# seleksi fitur"
   ]
  },
  {
   "cell_type": "code",
   "execution_count": 3,
   "metadata": {},
   "outputs": [
    {
     "data": {
      "text/plain": [
       "((181, 4), (181,))"
      ]
     },
     "execution_count": 3,
     "metadata": {},
     "output_type": "execute_result"
    }
   ],
   "source": [
    "features = ['DailyOilConsumption(Barrels)', 'YearlyGallonsPerCapita', 'PricePerGallon(USD)', 'PricePerLiter(USD)']\n",
    "x = df[features]\n",
    "y = df['PricePerGallon(USD)']\n",
    "x.shape, y.shape"
   ]
  },
  {
   "attachments": {},
   "cell_type": "markdown",
   "metadata": {},
   "source": [
    "# split data training dan data testing"
   ]
  },
  {
   "cell_type": "code",
   "execution_count": 4,
   "metadata": {},
   "outputs": [
    {
     "data": {
      "text/plain": [
       "(46,)"
      ]
     },
     "execution_count": 4,
     "metadata": {},
     "output_type": "execute_result"
    }
   ],
   "source": [
    "from sklearn.model_selection import train_test_split\n",
    "x_train, X_test, y_train, y_test = train_test_split(x,y,random_state=70)\n",
    "y_test.shape"
   ]
  },
  {
   "attachments": {},
   "cell_type": "markdown",
   "metadata": {},
   "source": [
    "# membuat model regresi linier"
   ]
  },
  {
   "cell_type": "code",
   "execution_count": 5,
   "metadata": {},
   "outputs": [],
   "source": [
    "from sklearn.linear_model import LinearRegression\n",
    "lr = LinearRegression()\n",
    "lr.fit(x_train,y_train)\n",
    "pred = lr.predict(X_test)"
   ]
  },
  {
   "cell_type": "code",
   "execution_count": 7,
   "metadata": {},
   "outputs": [
    {
     "name": "stdout",
     "output_type": "stream",
     "text": [
      "akurasi model regresi linier =  1.0\n"
     ]
    }
   ],
   "source": [
    "score = lr.score(X_test, y_test)\n",
    "print('akurasi model regresi linier = ', score)"
   ]
  },
  {
   "attachments": {},
   "cell_type": "markdown",
   "metadata": {},
   "source": [
    "# membuat inputan model regresi linier"
   ]
  },
  {
   "cell_type": "code",
   "execution_count": 9,
   "metadata": {},
   "outputs": [
    {
     "name": "stdout",
     "output_type": "stream",
     "text": [
      "estimasi_petrol: [5.19]\n"
     ]
    },
    {
     "name": "stderr",
     "output_type": "stream",
     "text": [
      "c:\\Users\\USER\\miniconda3\\lib\\site-packages\\sklearn\\base.py:439: UserWarning: X does not have valid feature names, but LinearRegression was fitted with feature names\n",
      "  warnings.warn(\n"
     ]
    }
   ],
   "source": [
    "#DailyOilConsumption(Barrels)=19687287, YearlyGallonsPerCapita=934.3, PricePerGallon(USD)=5.19, PricePerLiter(USD)=1.37\n",
    "input_data = np.array([[19687287, 934.3, 5.19, 1.37,]])\n",
    "\n",
    "prediction = lr.predict(input_data)\n",
    "print('estimasi_petrol:', prediction)"
   ]
  },
  {
   "attachments": {},
   "cell_type": "markdown",
   "metadata": {},
   "source": [
    "# save model"
   ]
  },
  {
   "cell_type": "code",
   "execution_count": 61,
   "metadata": {},
   "outputs": [],
   "source": [
    "import pickle\n",
    "\n",
    "filename = 'estimasi_petrol.sav'\n",
    "pickle.dump(lr,open(filename,'wb'))"
   ]
  }
 ],
 "metadata": {
  "kernelspec": {
   "display_name": "Python 3",
   "language": "python",
   "name": "python3"
  },
  "language_info": {
   "codemirror_mode": {
    "name": "ipython",
    "version": 3
   },
   "file_extension": ".py",
   "mimetype": "text/x-python",
   "name": "python",
   "nbconvert_exporter": "python",
   "pygments_lexer": "ipython3",
   "version": "3.10.10"
  },
  "orig_nbformat": 4
 },
 "nbformat": 4,
 "nbformat_minor": 2
}
